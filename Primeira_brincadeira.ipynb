{
  "nbformat": 4,
  "nbformat_minor": 0,
  "metadata": {
    "colab": {
      "private_outputs": true,
      "provenance": [],
      "collapsed_sections": [
        "7HA_w-3lovP6",
        "yLUmyaCco18j",
        "Wd0Vxp_qo7wb",
        "gZX0EEfMuHyQ",
        "nbvxI5VlmfB5",
        "30ZK318gmoVX",
        "ykoCnmZ-n6JG"
      ],
      "mount_file_id": "1_d9tfCBvyrF6YE0A6wH_Y2UrvUhftWDc",
      "authorship_tag": "ABX9TyOBTsfBqcLcgIyYj6BlpiO+",
      "include_colab_link": true
    },
    "kernelspec": {
      "name": "python3",
      "display_name": "Python 3"
    },
    "language_info": {
      "name": "python"
    }
  },
  "cells": [
    {
      "cell_type": "markdown",
      "metadata": {
        "id": "view-in-github",
        "colab_type": "text"
      },
      "source": [
        "<a href=\"https://colab.research.google.com/github/Yagomendonca/Brincando-com-dados-fase1/blob/main/Primeira_brincadeira.ipynb\" target=\"_parent\"><img src=\"https://colab.research.google.com/assets/colab-badge.svg\" alt=\"Open In Colab\"/></a>"
      ]
    },
    {
      "cell_type": "markdown",
      "source": [
        "## Bibliotecas"
      ],
      "metadata": {
        "id": "7HA_w-3lovP6"
      }
    },
    {
      "cell_type": "code",
      "source": [
        "!pip install pandas-profiling"
      ],
      "metadata": {
        "id": "CGNBYEmJeQKI"
      },
      "execution_count": null,
      "outputs": []
    },
    {
      "cell_type": "code",
      "execution_count": null,
      "metadata": {
        "id": "x4kZdlS5WuS4"
      },
      "outputs": [],
      "source": [
        "import numpy as np\n",
        "import pandas as pd\n",
        "from pandas_profiling import ProfileReport\n",
        "\n",
        "import seaborn as sns\n",
        "import matplotlib.pyplot as plt\n",
        "\n",
        "import plotly.express as px\n",
        "\n",
        "from sklearn import datasets\n",
        "from sklearn.preprocessing import scale, minmax_scale, power_transform\n",
        "\n",
        "from IPython.core.display import HTML\n",
        "from ipywidgets import interact, widgets"
      ]
    },
    {
      "cell_type": "markdown",
      "source": [
        "## Dataset"
      ],
      "metadata": {
        "id": "yLUmyaCco18j"
      }
    },
    {
      "cell_type": "code",
      "source": [],
      "metadata": {
        "id": "wv1gAPkdfS7P"
      },
      "execution_count": null,
      "outputs": []
    },
    {
      "cell_type": "code",
      "source": [
        "df_tesla = pd.read_csv('/content/drive/MyDrive/CURSO ANALISE DE DADOS DNC/BRINCANDO COM OS DADOS 1/archive/TSLA.csv')"
      ],
      "metadata": {
        "id": "L8pHE2seW424"
      },
      "execution_count": null,
      "outputs": []
    },
    {
      "cell_type": "code",
      "source": [
        "df_tesla.head()"
      ],
      "metadata": {
        "id": "0e-cF9JuXAIh"
      },
      "execution_count": null,
      "outputs": []
    },
    {
      "cell_type": "markdown",
      "source": [
        "## Visualização dos dados"
      ],
      "metadata": {
        "id": "Wd0Vxp_qo7wb"
      }
    },
    {
      "cell_type": "code",
      "source": [
        "df_tesla.profile_report()"
      ],
      "metadata": {
        "id": "U4I12nzSdhX8"
      },
      "execution_count": null,
      "outputs": []
    },
    {
      "cell_type": "code",
      "source": [
        "df_tesla.info()"
      ],
      "metadata": {
        "id": "mL20H9RQXGzX"
      },
      "execution_count": null,
      "outputs": []
    },
    {
      "cell_type": "markdown",
      "source": [
        "## Data Cleanning"
      ],
      "metadata": {
        "id": "gZX0EEfMuHyQ"
      }
    },
    {
      "cell_type": "markdown",
      "source": [
        "Transformando a coluna Date para o tipo Data"
      ],
      "metadata": {
        "id": "Zb0_v-ZlpCNG"
      }
    },
    {
      "cell_type": "code",
      "source": [
        "df_tesla['Date'] = pd.to_datetime(df_tesla['Date'], format='%Y/%m/%d')"
      ],
      "metadata": {
        "id": "Nb3AJLYuX642"
      },
      "execution_count": null,
      "outputs": []
    },
    {
      "cell_type": "code",
      "source": [
        "df_tesla.info()"
      ],
      "metadata": {
        "id": "VKUFiddGYvyZ"
      },
      "execution_count": null,
      "outputs": []
    },
    {
      "cell_type": "code",
      "source": [
        "df_tesla.head()"
      ],
      "metadata": {
        "id": "m5n0_zb2auyR"
      },
      "execution_count": null,
      "outputs": []
    },
    {
      "cell_type": "code",
      "source": [
        "df_tesla_index = df_tesla.set_index('Date').sort_index()\n",
        "df_tesla_index"
      ],
      "metadata": {
        "id": "hYWlZRFUbmzy"
      },
      "execution_count": null,
      "outputs": []
    },
    {
      "cell_type": "code",
      "source": [
        "df_tesla_index.loc['2021-10-11':'2021-10-13']"
      ],
      "metadata": {
        "id": "_9lAGZFNb1-o"
      },
      "execution_count": null,
      "outputs": []
    },
    {
      "cell_type": "markdown",
      "source": [
        "REMOVENDO NULOS"
      ],
      "metadata": {
        "id": "vjwT5qX5pNGQ"
      }
    },
    {
      "cell_type": "code",
      "source": [
        "df_tesla_index.dropna()"
      ],
      "metadata": {
        "id": "MiCfdb_6f84U"
      },
      "execution_count": null,
      "outputs": []
    },
    {
      "cell_type": "markdown",
      "source": [
        "REMOVENDO DUPLICADOS"
      ],
      "metadata": {
        "id": "GmwIY2ycpPQl"
      }
    },
    {
      "cell_type": "code",
      "source": [
        "df_tesla_index.drop_duplicates()"
      ],
      "metadata": {
        "id": "aSymXbvygEUy"
      },
      "execution_count": null,
      "outputs": []
    },
    {
      "cell_type": "markdown",
      "source": [
        "VERIFICANDO OUTLIERS"
      ],
      "metadata": {
        "id": "ACBdB3YhpS_t"
      }
    },
    {
      "cell_type": "code",
      "source": [
        "df_tesla_index.plot.box()"
      ],
      "metadata": {
        "id": "JsEeHRgUgcdG"
      },
      "execution_count": null,
      "outputs": []
    },
    {
      "cell_type": "code",
      "source": [
        "df_tesla_index.apply(scale).plot.box()"
      ],
      "metadata": {
        "id": "Co_hOwVvgtDL"
      },
      "execution_count": null,
      "outputs": []
    },
    {
      "cell_type": "markdown",
      "source": [
        "Função que calcula as possíveis outliers"
      ],
      "metadata": {
        "id": "NlOqayrwhG0e"
      }
    },
    {
      "cell_type": "code",
      "source": [
        "def is_outlier(array, extreme=False):\n",
        "  \"\"\"Custom function to identify outliers in an array\"\"\"\n",
        "  q1,q3 = np.quantile(array, [.25,.75])\n",
        "  iqr = q3-q1\n",
        "\n",
        "  factor = 3. if extreme else 1.5\n",
        "  upper_outlier = q3 + factor*iqr\n",
        "  lower_outlier = q1 - factor*iqr\n",
        "\n",
        "  return (array < lower_outlier) | (array > upper_outlier)"
      ],
      "metadata": {
        "id": "qyCKLvnPhF2g"
      },
      "execution_count": null,
      "outputs": []
    },
    {
      "cell_type": "code",
      "source": [
        "df_tesla_index.apply(is_outlier).sum()"
      ],
      "metadata": {
        "id": "Pg0QzDtLhMGh"
      },
      "execution_count": null,
      "outputs": []
    },
    {
      "cell_type": "code",
      "source": [
        "df_tesla_index.apply(is_outlier).sum()"
      ],
      "metadata": {
        "id": "5AmqA9_RoCSm"
      },
      "execution_count": null,
      "outputs": []
    },
    {
      "cell_type": "markdown",
      "source": [
        "**VERIFICOU-SE QUE OS OUTLIERS AQUI SERÃO NECESSÁRIOS POIS APRESENTAM A VARIAÇÃO REAL DAS AÇÕES AO LONGO DO TEMPO E NÃO SÃO POSSÍVEIS ERROS DO DATASET**"
      ],
      "metadata": {
        "id": "xO0D1fDCpV9y"
      }
    },
    {
      "cell_type": "markdown",
      "source": [
        "## Análise anual das ações"
      ],
      "metadata": {
        "id": "nbvxI5VlmfB5"
      }
    },
    {
      "cell_type": "code",
      "source": [
        "df_ano = df_tesla_index.resample('YS').mean().sort_index()\n",
        "df_ano.head"
      ],
      "metadata": {
        "id": "nb1Z8gRNqdQj"
      },
      "execution_count": null,
      "outputs": []
    },
    {
      "cell_type": "code",
      "source": [
        "plt.figure(figsize=(18,7))\n",
        "df_ano.plot(y=['Open', 'Close'])"
      ],
      "metadata": {
        "id": "W-DQlMnoltcb"
      },
      "execution_count": null,
      "outputs": []
    },
    {
      "cell_type": "markdown",
      "source": [
        "## Valor das ações em cada Triênio"
      ],
      "metadata": {
        "id": "30ZK318gmoVX"
      }
    },
    {
      "cell_type": "code",
      "source": [
        "Primeiro_Trienio = df_ano.loc['2010-01-01': '2012-12-31']\n",
        "Primeiro_Trienio.head()\n",
        "Segundo_Trienio = df_ano.loc['2013-01-01': '2017-01-01']\n",
        "Primeiro_Trienio.head()\n",
        "Terceiro_Trienio = df_ano.loc['2017-01-01': '2021-01-01']\n",
        "Primeiro_Trienio.head()"
      ],
      "metadata": {
        "id": "ujqMC5_VgxMr"
      },
      "execution_count": null,
      "outputs": []
    },
    {
      "cell_type": "code",
      "source": [
        "df_tesla_scala = df_ano.apply(scale)"
      ],
      "metadata": {
        "id": "nFCHwIe4f9HY"
      },
      "execution_count": null,
      "outputs": []
    },
    {
      "cell_type": "code",
      "source": [
        "plt.figure(figsize=(18,7))\n",
        "Primeiro_Trienio_Gráfico = px.bar(data_frame=Primeiro_Trienio, y=['Open', 'Close'])\n",
        "Primeiro_Trienio_Gráfico.show()"
      ],
      "metadata": {
        "id": "vSWnQU3spiTY"
      },
      "execution_count": null,
      "outputs": []
    },
    {
      "cell_type": "code",
      "source": [
        "plt.figure(figsize=(18,7))\n",
        "Segundo_Trienio_Gráfico = px.bar(data_frame=Segundo_Trienio, y=['Open', 'Close'])\n",
        "Segundo_Trienio_Gráfico.show()\n"
      ],
      "metadata": {
        "id": "yHjVr2xQhr9K"
      },
      "execution_count": null,
      "outputs": []
    },
    {
      "cell_type": "code",
      "source": [
        "plt.figure(figsize=(18,7))\n",
        "Terceiro_Trienio_Gráfico = px.bar(data_frame=Terceiro_Trienio, y=['Open', 'Close'])\n",
        "Terceiro_Trienio_Gráfico.show()"
      ],
      "metadata": {
        "id": "ycYo9RsXlhk5"
      },
      "execution_count": null,
      "outputs": []
    },
    {
      "cell_type": "markdown",
      "source": [
        "## Análise mensal dos anos de maior alta e maior baixa"
      ],
      "metadata": {
        "id": "ykoCnmZ-n6JG"
      }
    },
    {
      "cell_type": "code",
      "source": [
        "df_mes = df_tesla_index.resample('MS').mean().sort_index()\n",
        "df_mes.head"
      ],
      "metadata": {
        "id": "NuFv00FsnxVR"
      },
      "execution_count": null,
      "outputs": []
    },
    {
      "cell_type": "markdown",
      "source": [
        "Mês com menor valor de compra e venda a partir do marco temporal registrado"
      ],
      "metadata": {
        "id": "bzfBwKlXpf0x"
      }
    },
    {
      "cell_type": "code",
      "source": [
        "Maior_Baixa = df_ano.loc['2010-01-01': '2011-01-01']\n",
        "Maior_Baixa.head()"
      ],
      "metadata": {
        "id": "uno6m-NhoLqT"
      },
      "execution_count": null,
      "outputs": []
    },
    {
      "cell_type": "code",
      "source": [
        "plt.figure(figsize=(18,7))\n",
        "Maior_Baixa_Mensal = px.line(data_frame=Maior_Baixa, y=['Open', 'Close'])\n",
        "Maior_Baixa_Mensal.show()"
      ],
      "metadata": {
        "id": "BChC4ArZoZO9"
      },
      "execution_count": null,
      "outputs": []
    },
    {
      "cell_type": "code",
      "source": [
        "Maior_Alta = df_ano.loc['2021-01-01': '2021-12-31']\n",
        "Maior_Alta.head()"
      ],
      "metadata": {
        "id": "T160aRbJptjb"
      },
      "execution_count": null,
      "outputs": []
    },
    {
      "cell_type": "code",
      "source": [
        "plt.figure(figsize=(18,7))\n",
        "Maior_Alta_Mensal = px.line(data_frame=Maior_Alta, y=['Open', 'Close'])\n",
        "Maior_Alta_Mensal.show()"
      ],
      "metadata": {
        "id": "m8U98z26qBPD"
      },
      "execution_count": null,
      "outputs": []
    }
  ]
}